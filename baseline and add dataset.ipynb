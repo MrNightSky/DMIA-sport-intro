{
 "cells": [
  {
   "cell_type": "code",
   "execution_count": 1,
   "metadata": {},
   "outputs": [],
   "source": [
    "import pandas as pd\n",
    "import matplotlib.pyplot as plt\n",
    "import numpy as np\n",
    "import math\n",
    "import os\n",
    "import tqdm\n",
    "import string\n",
    "\n",
    "from sklearn.model_selection import train_test_split\n",
    "from lightgbm import LGBMRegressor"
   ]
  },
  {
   "cell_type": "markdown",
   "metadata": {},
   "source": [
    "Data extraction"
   ]
  },
  {
   "cell_type": "code",
   "execution_count": 2,
   "metadata": {},
   "outputs": [],
   "source": [
    "os.chdir('./data')"
   ]
  },
  {
   "cell_type": "code",
   "execution_count": 4,
   "metadata": {},
   "outputs": [
    {
     "data": {
      "text/plain": [
       "array(['10-million-password-list-top-100.txt',\n",
       "       '10-million-password-list-top-1000.txt',\n",
       "       '10-million-password-list-top-10000.txt',\n",
       "       '10-million-password-list-top-100000.txt',\n",
       "       '10-million-password-list-top-1000000.txt',\n",
       "       '10-million-password-list-top-500.txt', '10k-most-common.txt',\n",
       "       '500-worst-passwords.txt', 'Xtest.csv.zip',\n",
       "       'common-passwords-win.txt', 'lgbm_submit1.csv', 'lgbm_submit2.csv',\n",
       "       'lgbm_submit3.csv', 'lgbm_submit4.csv', 'lgbm_submit5.csv',\n",
       "       'rockyou-withcount.txt.bz2', 'sample_submission.csv.zip',\n",
       "       'train.csv.zip', 'words.txt'], dtype='<U40')"
      ]
     },
     "execution_count": 4,
     "metadata": {},
     "output_type": "execute_result"
    }
   ],
   "source": [
    "files = np.sort(np.array(os.listdir()))\n",
    "files"
   ]
  },
  {
   "cell_type": "code",
   "execution_count": 5,
   "metadata": {},
   "outputs": [],
   "source": [
    "train = pd.read_csv('train.csv.zip')\n",
    "test = pd.read_csv('Xtest.csv.zip')"
   ]
  },
  {
   "cell_type": "markdown",
   "metadata": {},
   "source": [
    "Functions for features creation"
   ]
  },
  {
   "cell_type": "code",
   "execution_count": 6,
   "metadata": {},
   "outputs": [],
   "source": [
    "def add_top_features(data, names):\n",
    "    output = data.copy()\n",
    "    for name in tqdm.tqdm_notebook(names):\n",
    "        f_name = 'top_'+ name[:-4].split('-')[-1]\n",
    "        datka = pd.read_table(name, header=None, names=['Password', f_name])\n",
    "        datka[f_name] = 1\n",
    "        output = pd.merge(output, datka, left_on='Password', right_on='Password', how = 'left').fillna(0)\n",
    "    return output\n",
    "\n",
    "def all_features(data):\n",
    "    features = []\n",
    "    for word in tqdm.tqdm_notebook(data.Password.fillna(0).values):\n",
    "        features.append(features_create(word))\n",
    "    features = np.array(features)\n",
    "    data['N_letter'], data['UpLetter'], data['DownLetter'], data['Num'] = features[:, 0], features[:, 1], features[:, 2], features[:, 3] \n",
    "    return data\n",
    "\n",
    "def features_create(word):\n",
    "    features = [[],[],[],[]]\n",
    "    features[0] = len(word)\n",
    "    up = 0\n",
    "    lo = 0\n",
    "    nu = 0\n",
    "    for symb in word:\n",
    "        if symb.isnumeric():\n",
    "            nu += 1\n",
    "        elif symb.isupper():\n",
    "            up += 1\n",
    "        else:\n",
    "            lo += 1\n",
    "    features[1] = up\n",
    "    features[2] = lo\n",
    "    features[3] = nu\n",
    "    return features"
   ]
  },
  {
   "cell_type": "code",
   "execution_count": 7,
   "metadata": {},
   "outputs": [],
   "source": [
    "symbols = string.printable[:-6]\n",
    "def num_of_symbols(data):\n",
    "    output = data.copy()\n",
    "    features = np.zeros((len(symbols), output.shape[0]))\n",
    "    words = output.Password.values\n",
    "    for i in tqdm.tqdm_notebook(range(len(words))):\n",
    "        word = words[i]\n",
    "        for symb in word:\n",
    "            try:\n",
    "                features[symbols.find(symb)][i] += 1\n",
    "            except BaseException:\n",
    "                pass\n",
    "    for symb in symbols:\n",
    "        output[symb] = features[symbols.find(symb)]\n",
    "    return output"
   ]
  },
  {
   "cell_type": "code",
   "execution_count": 8,
   "metadata": {},
   "outputs": [],
   "source": [
    "def add_words_features(data):\n",
    "    output = data.copy()\n",
    "    f_name = 'words'\n",
    "    datka = pd.read_table('words.txt', header=None, names=['Password', f_name])\n",
    "    datka[f_name] = 1\n",
    "    output = pd.merge(output, datka, left_on='Password', right_on='Password', how = 'left').fillna(0)\n",
    "    return output"
   ]
  },
  {
   "cell_type": "markdown",
   "metadata": {},
   "source": [
    "Features creation"
   ]
  },
  {
   "cell_type": "code",
   "execution_count": 9,
   "metadata": {},
   "outputs": [
    {
     "data": {
      "application/vnd.jupyter.widget-view+json": {
       "model_id": "edc2dba2a633417690cd894995991bd9",
       "version_major": 2,
       "version_minor": 0
      },
      "text/plain": [
       "HBox(children=(IntProgress(value=0, max=7), HTML(value='')))"
      ]
     },
     "metadata": {},
     "output_type": "display_data"
    },
    {
     "name": "stdout",
     "output_type": "stream",
     "text": [
      "\n"
     ]
    },
    {
     "data": {
      "application/vnd.jupyter.widget-view+json": {
       "model_id": "04de45f6dbe748aba5179c2169d8b9e4",
       "version_major": 2,
       "version_minor": 0
      },
      "text/plain": [
       "HBox(children=(IntProgress(value=0, max=4151496), HTML(value='')))"
      ]
     },
     "metadata": {},
     "output_type": "display_data"
    },
    {
     "name": "stdout",
     "output_type": "stream",
     "text": [
      "\n"
     ]
    },
    {
     "data": {
      "application/vnd.jupyter.widget-view+json": {
       "model_id": "09436266fbd34400925c61735a97d940",
       "version_major": 2,
       "version_minor": 0
      },
      "text/plain": [
       "HBox(children=(IntProgress(value=0, max=4151496), HTML(value='')))"
      ]
     },
     "metadata": {},
     "output_type": "display_data"
    },
    {
     "name": "stdout",
     "output_type": "stream",
     "text": [
      "\n"
     ]
    }
   ],
   "source": [
    "X = add_top_features(train.fillna('0'), files[:7])\n",
    "X = all_features(X)\n",
    "X = num_of_symbols(X)\n",
    "X = add_words_features(X)\n",
    "y = np.log(X.Times.values)\n",
    "X_train, X_test, y_train, y_test = train_test_split(X.drop(['Password', 'Times'], axis=1), y, random_state=47)"
   ]
  },
  {
   "cell_type": "markdown",
   "metadata": {},
   "source": [
    "Model control"
   ]
  },
  {
   "cell_type": "code",
   "execution_count": 10,
   "metadata": {
    "scrolled": true
   },
   "outputs": [
    {
     "name": "stdout",
     "output_type": "stream",
     "text": [
      "[1]\tvalid_0's l2: 0.249188\tvalid_0's rmse: 0.499188\n",
      "[2]\tvalid_0's l2: 0.209294\tvalid_0's rmse: 0.457487\n",
      "[3]\tvalid_0's l2: 0.176934\tvalid_0's rmse: 0.420636\n",
      "[4]\tvalid_0's l2: 0.150732\tvalid_0's rmse: 0.388242\n",
      "[5]\tvalid_0's l2: 0.12944\tvalid_0's rmse: 0.359777\n",
      "[6]\tvalid_0's l2: 0.112155\tvalid_0's rmse: 0.334896\n",
      "[7]\tvalid_0's l2: 0.0981449\tvalid_0's rmse: 0.313281\n",
      "[8]\tvalid_0's l2: 0.0867697\tvalid_0's rmse: 0.294567\n",
      "[9]\tvalid_0's l2: 0.0775341\tvalid_0's rmse: 0.278449\n",
      "[10]\tvalid_0's l2: 0.0700117\tvalid_0's rmse: 0.264597\n",
      "[11]\tvalid_0's l2: 0.0638967\tvalid_0's rmse: 0.252778\n",
      "[12]\tvalid_0's l2: 0.0589501\tvalid_0's rmse: 0.242796\n",
      "[13]\tvalid_0's l2: 0.0548251\tvalid_0's rmse: 0.234148\n",
      "[14]\tvalid_0's l2: 0.0514705\tvalid_0's rmse: 0.226871\n",
      "[15]\tvalid_0's l2: 0.0487829\tvalid_0's rmse: 0.220869\n",
      "[16]\tvalid_0's l2: 0.0465319\tvalid_0's rmse: 0.215713\n",
      "[17]\tvalid_0's l2: 0.0447161\tvalid_0's rmse: 0.211462\n",
      "[18]\tvalid_0's l2: 0.0432339\tvalid_0's rmse: 0.207928\n",
      "[19]\tvalid_0's l2: 0.0419873\tvalid_0's rmse: 0.204908\n",
      "[20]\tvalid_0's l2: 0.0409584\tvalid_0's rmse: 0.202382\n",
      "[21]\tvalid_0's l2: 0.0401122\tvalid_0's rmse: 0.20028\n",
      "[22]\tvalid_0's l2: 0.0394245\tvalid_0's rmse: 0.198556\n",
      "[23]\tvalid_0's l2: 0.0388406\tvalid_0's rmse: 0.19708\n",
      "[24]\tvalid_0's l2: 0.0383615\tvalid_0's rmse: 0.195861\n",
      "[25]\tvalid_0's l2: 0.0379612\tvalid_0's rmse: 0.194836\n",
      "[26]\tvalid_0's l2: 0.0376267\tvalid_0's rmse: 0.193976\n",
      "[27]\tvalid_0's l2: 0.0373466\tvalid_0's rmse: 0.193253\n",
      "[28]\tvalid_0's l2: 0.0371141\tvalid_0's rmse: 0.19265\n",
      "[29]\tvalid_0's l2: 0.0369024\tvalid_0's rmse: 0.1921\n",
      "[30]\tvalid_0's l2: 0.0367185\tvalid_0's rmse: 0.191621\n",
      "[31]\tvalid_0's l2: 0.0365613\tvalid_0's rmse: 0.19121\n",
      "[32]\tvalid_0's l2: 0.0364316\tvalid_0's rmse: 0.190871\n",
      "[33]\tvalid_0's l2: 0.0363146\tvalid_0's rmse: 0.190564\n",
      "[34]\tvalid_0's l2: 0.0362189\tvalid_0's rmse: 0.190313\n",
      "[35]\tvalid_0's l2: 0.0361286\tvalid_0's rmse: 0.190075\n",
      "[36]\tvalid_0's l2: 0.0360502\tvalid_0's rmse: 0.189869\n",
      "[37]\tvalid_0's l2: 0.0359802\tvalid_0's rmse: 0.189685\n",
      "[38]\tvalid_0's l2: 0.0359141\tvalid_0's rmse: 0.18951\n",
      "[39]\tvalid_0's l2: 0.0358592\tvalid_0's rmse: 0.189365\n",
      "[40]\tvalid_0's l2: 0.0358096\tvalid_0's rmse: 0.189234\n",
      "[41]\tvalid_0's l2: 0.0357598\tvalid_0's rmse: 0.189103\n",
      "[42]\tvalid_0's l2: 0.0357183\tvalid_0's rmse: 0.188993\n",
      "[43]\tvalid_0's l2: 0.035681\tvalid_0's rmse: 0.188894\n",
      "[44]\tvalid_0's l2: 0.0356405\tvalid_0's rmse: 0.188787\n",
      "[45]\tvalid_0's l2: 0.0356113\tvalid_0's rmse: 0.18871\n",
      "[46]\tvalid_0's l2: 0.0355768\tvalid_0's rmse: 0.188618\n",
      "[47]\tvalid_0's l2: 0.0355485\tvalid_0's rmse: 0.188543\n",
      "[48]\tvalid_0's l2: 0.0355246\tvalid_0's rmse: 0.18848\n",
      "[49]\tvalid_0's l2: 0.0354883\tvalid_0's rmse: 0.188383\n",
      "[50]\tvalid_0's l2: 0.0354635\tvalid_0's rmse: 0.188318\n",
      "[51]\tvalid_0's l2: 0.0354372\tvalid_0's rmse: 0.188248\n",
      "[52]\tvalid_0's l2: 0.0354182\tvalid_0's rmse: 0.188197\n",
      "[53]\tvalid_0's l2: 0.0354018\tvalid_0's rmse: 0.188154\n",
      "[54]\tvalid_0's l2: 0.0353865\tvalid_0's rmse: 0.188113\n",
      "[55]\tvalid_0's l2: 0.0353778\tvalid_0's rmse: 0.18809\n",
      "[56]\tvalid_0's l2: 0.0353716\tvalid_0's rmse: 0.188073\n",
      "[57]\tvalid_0's l2: 0.0353572\tvalid_0's rmse: 0.188035\n",
      "[58]\tvalid_0's l2: 0.0353498\tvalid_0's rmse: 0.188015\n",
      "[59]\tvalid_0's l2: 0.035333\tvalid_0's rmse: 0.187971\n",
      "[60]\tvalid_0's l2: 0.0353168\tvalid_0's rmse: 0.187928\n",
      "[61]\tvalid_0's l2: 0.0353004\tvalid_0's rmse: 0.187884\n",
      "[62]\tvalid_0's l2: 0.0352777\tvalid_0's rmse: 0.187824\n",
      "[63]\tvalid_0's l2: 0.0352596\tvalid_0's rmse: 0.187775\n",
      "[64]\tvalid_0's l2: 0.0352502\tvalid_0's rmse: 0.18775\n",
      "[65]\tvalid_0's l2: 0.0352446\tvalid_0's rmse: 0.187735\n",
      "[66]\tvalid_0's l2: 0.0352377\tvalid_0's rmse: 0.187717\n",
      "[67]\tvalid_0's l2: 0.0352323\tvalid_0's rmse: 0.187703\n",
      "[68]\tvalid_0's l2: 0.0352179\tvalid_0's rmse: 0.187664\n",
      "[69]\tvalid_0's l2: 0.0352047\tvalid_0's rmse: 0.187629\n",
      "[70]\tvalid_0's l2: 0.0351934\tvalid_0's rmse: 0.187599\n",
      "[71]\tvalid_0's l2: 0.0351906\tvalid_0's rmse: 0.187592\n",
      "[72]\tvalid_0's l2: 0.035183\tvalid_0's rmse: 0.187571\n",
      "[73]\tvalid_0's l2: 0.0351753\tvalid_0's rmse: 0.187551\n",
      "[74]\tvalid_0's l2: 0.0351598\tvalid_0's rmse: 0.187509\n",
      "[75]\tvalid_0's l2: 0.0351485\tvalid_0's rmse: 0.187479\n",
      "[76]\tvalid_0's l2: 0.035137\tvalid_0's rmse: 0.187449\n",
      "[77]\tvalid_0's l2: 0.0351256\tvalid_0's rmse: 0.187418\n",
      "[78]\tvalid_0's l2: 0.0351232\tvalid_0's rmse: 0.187412\n",
      "[79]\tvalid_0's l2: 0.0351142\tvalid_0's rmse: 0.187388\n",
      "[80]\tvalid_0's l2: 0.0351126\tvalid_0's rmse: 0.187384\n",
      "[81]\tvalid_0's l2: 0.0351032\tvalid_0's rmse: 0.187359\n",
      "[82]\tvalid_0's l2: 0.0350982\tvalid_0's rmse: 0.187345\n",
      "[83]\tvalid_0's l2: 0.0350854\tvalid_0's rmse: 0.187311\n",
      "[84]\tvalid_0's l2: 0.035073\tvalid_0's rmse: 0.187278\n",
      "[85]\tvalid_0's l2: 0.0350639\tvalid_0's rmse: 0.187254\n",
      "[86]\tvalid_0's l2: 0.0350575\tvalid_0's rmse: 0.187236\n",
      "[87]\tvalid_0's l2: 0.0350473\tvalid_0's rmse: 0.187209\n",
      "[88]\tvalid_0's l2: 0.0350446\tvalid_0's rmse: 0.187202\n",
      "[89]\tvalid_0's l2: 0.0350338\tvalid_0's rmse: 0.187173\n",
      "[90]\tvalid_0's l2: 0.035023\tvalid_0's rmse: 0.187144\n",
      "[91]\tvalid_0's l2: 0.0350192\tvalid_0's rmse: 0.187134\n",
      "[92]\tvalid_0's l2: 0.0350158\tvalid_0's rmse: 0.187125\n",
      "[93]\tvalid_0's l2: 0.0350119\tvalid_0's rmse: 0.187115\n",
      "[94]\tvalid_0's l2: 0.0350102\tvalid_0's rmse: 0.18711\n",
      "[95]\tvalid_0's l2: 0.0350023\tvalid_0's rmse: 0.187089\n",
      "[96]\tvalid_0's l2: 0.0349986\tvalid_0's rmse: 0.187079\n",
      "[97]\tvalid_0's l2: 0.034991\tvalid_0's rmse: 0.187059\n",
      "[98]\tvalid_0's l2: 0.0349852\tvalid_0's rmse: 0.187043\n",
      "[99]\tvalid_0's l2: 0.0349743\tvalid_0's rmse: 0.187014\n",
      "[100]\tvalid_0's l2: 0.0349695\tvalid_0's rmse: 0.187001\n"
     ]
    },
    {
     "data": {
      "text/plain": [
       "LGBMRegressor(boosting_type='gbdt', class_weight=None, colsample_bytree=1.0,\n",
       "       importance_type='split', learning_rate=0.1, max_depth=-1,\n",
       "       min_child_samples=20, min_child_weight=0.001, min_split_gain=0.0,\n",
       "       n_estimators=100, n_jobs=-1, num_leaves=31, objective=None,\n",
       "       random_state=47, reg_alpha=0.0, reg_lambda=0.0, silent=True,\n",
       "       subsample=1.0, subsample_for_bin=200000, subsample_freq=0)"
      ]
     },
     "execution_count": 10,
     "metadata": {},
     "output_type": "execute_result"
    }
   ],
   "source": [
    "model = LGBMRegressor(random_state=47)\n",
    "model.fit(X_train, y_train, eval_set=[(np.array(X_test), np.array(y_test))], eval_metric='rmse')"
   ]
  },
  {
   "cell_type": "code",
   "execution_count": 11,
   "metadata": {},
   "outputs": [],
   "source": [
    "def rmsle(y, y_pred):\n",
    "    assert len(y) == len(y_pred)\n",
    "    terms_to_sum = [(math.log(y_pred[i] + 1) - math.log(y[i] + 1)) ** 2.0 for i,pred in enumerate(y_pred)]\n",
    "    return (sum(terms_to_sum) * (1.0/len(y))) ** 0.5"
   ]
  },
  {
   "cell_type": "code",
   "execution_count": 12,
   "metadata": {},
   "outputs": [
    {
     "data": {
      "text/plain": [
       "0.10178206768299114"
      ]
     },
     "execution_count": 12,
     "metadata": {},
     "output_type": "execute_result"
    }
   ],
   "source": [
    "rmsle(y_test, model.predict(X_test))"
   ]
  },
  {
   "cell_type": "markdown",
   "metadata": {},
   "source": [
    "Prediction"
   ]
  },
  {
   "cell_type": "code",
   "execution_count": 13,
   "metadata": {
    "scrolled": true
   },
   "outputs": [
    {
     "name": "stdout",
     "output_type": "stream",
     "text": [
      "CPU times: user 13min 1s, sys: 26.5 s, total: 13min 28s\n",
      "Wall time: 1min 54s\n"
     ]
    }
   ],
   "source": [
    "%%time\n",
    "model = LGBMRegressor(random_state=47, max_depth=7, n_estimators=500)\n",
    "model.fit(X.drop(['Password', 'Times'], axis=1), y, eval_metric='rmse')"
   ]
  },
  {
   "cell_type": "code",
   "execution_count": 14,
   "metadata": {},
   "outputs": [
    {
     "data": {
      "application/vnd.jupyter.widget-view+json": {
       "model_id": "",
       "version_major": 2,
       "version_minor": 0
      },
      "text/plain": [
       "HBox(children=(IntProgress(value=0, max=7), HTML(value='')))"
      ]
     },
     "metadata": {},
     "output_type": "display_data"
    },
    {
     "name": "stdout",
     "output_type": "stream",
     "text": [
      "\n"
     ]
    },
    {
     "data": {
      "application/vnd.jupyter.widget-view+json": {
       "model_id": "",
       "version_major": 2,
       "version_minor": 0
      },
      "text/plain": [
       "HBox(children=(IntProgress(value=0, max=1037875), HTML(value='')))"
      ]
     },
     "metadata": {},
     "output_type": "display_data"
    },
    {
     "name": "stdout",
     "output_type": "stream",
     "text": [
      "\n"
     ]
    },
    {
     "data": {
      "application/vnd.jupyter.widget-view+json": {
       "model_id": "",
       "version_major": 2,
       "version_minor": 0
      },
      "text/plain": [
       "HBox(children=(IntProgress(value=0, max=1037875), HTML(value='')))"
      ]
     },
     "metadata": {},
     "output_type": "display_data"
    },
    {
     "name": "stdout",
     "output_type": "stream",
     "text": [
      "\n"
     ]
    }
   ],
   "source": [
    "X_control = add_top_features(test.fillna('0'), files[:7])\n",
    "X_control = all_features(X_control)\n",
    "X_control = num_of_symbols(X_control)\n",
    "X_control = add_words_features(X_control)\n",
    "prediction = np.exp(model.predict(X_control.drop(['Password', 'Id'], axis=1)))\n",
    "pd.DataFrame(prediction, index=range(test.shape[0]), columns=['Times']).to_csv('lgbm_submit6.csv', index_label='Id')"
   ]
  }
 ],
 "metadata": {
  "kernelspec": {
   "display_name": "Python 3",
   "language": "python",
   "name": "python3"
  },
  "language_info": {
   "codemirror_mode": {
    "name": "ipython",
    "version": 3
   },
   "file_extension": ".py",
   "mimetype": "text/x-python",
   "name": "python",
   "nbconvert_exporter": "python",
   "pygments_lexer": "ipython3",
   "version": "3.6.8"
  }
 },
 "nbformat": 4,
 "nbformat_minor": 2
}
