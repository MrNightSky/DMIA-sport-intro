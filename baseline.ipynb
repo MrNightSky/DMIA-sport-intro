{
 "cells": [
  {
   "cell_type": "code",
   "execution_count": 66,
   "metadata": {},
   "outputs": [],
   "source": [
    "import pandas as pd\n",
    "import matplotlib.pyplot as plt\n",
    "import numpy as np\n",
    "import math\n",
    "\n",
    "from sklearn.model_selection import train_test_split\n",
    "from lightgbm import LGBMRegressor"
   ]
  },
  {
   "cell_type": "markdown",
   "metadata": {},
   "source": [
    "Data extraction"
   ]
  },
  {
   "cell_type": "code",
   "execution_count": 45,
   "metadata": {},
   "outputs": [],
   "source": [
    "train = pd.read_csv('train.csv')\n",
    "test = pd.read_csv('Xtest.csv')"
   ]
  },
  {
   "cell_type": "markdown",
   "metadata": {},
   "source": [
    "DataLook"
   ]
  },
  {
   "cell_type": "code",
   "execution_count": 3,
   "metadata": {},
   "outputs": [
    {
     "data": {
      "text/html": [
       "<div>\n",
       "<style scoped>\n",
       "    .dataframe tbody tr th:only-of-type {\n",
       "        vertical-align: middle;\n",
       "    }\n",
       "\n",
       "    .dataframe tbody tr th {\n",
       "        vertical-align: top;\n",
       "    }\n",
       "\n",
       "    .dataframe thead th {\n",
       "        text-align: right;\n",
       "    }\n",
       "</style>\n",
       "<table border=\"1\" class=\"dataframe\">\n",
       "  <thead>\n",
       "    <tr style=\"text-align: right;\">\n",
       "      <th></th>\n",
       "      <th>Password</th>\n",
       "      <th>Times</th>\n",
       "    </tr>\n",
       "  </thead>\n",
       "  <tbody>\n",
       "    <tr>\n",
       "      <th>0</th>\n",
       "      <td>631XniVx2lS5I</td>\n",
       "      <td>2</td>\n",
       "    </tr>\n",
       "    <tr>\n",
       "      <th>1</th>\n",
       "      <td>LEGIT747</td>\n",
       "      <td>1</td>\n",
       "    </tr>\n",
       "    <tr>\n",
       "      <th>2</th>\n",
       "      <td>742364es</td>\n",
       "      <td>1</td>\n",
       "    </tr>\n",
       "    <tr>\n",
       "      <th>3</th>\n",
       "      <td>3846696477</td>\n",
       "      <td>1</td>\n",
       "    </tr>\n",
       "    <tr>\n",
       "      <th>4</th>\n",
       "      <td>laurahop</td>\n",
       "      <td>2</td>\n",
       "    </tr>\n",
       "  </tbody>\n",
       "</table>\n",
       "</div>"
      ],
      "text/plain": [
       "        Password  Times\n",
       "0  631XniVx2lS5I      2\n",
       "1       LEGIT747      1\n",
       "2       742364es      1\n",
       "3     3846696477      1\n",
       "4       laurahop      2"
      ]
     },
     "execution_count": 3,
     "metadata": {},
     "output_type": "execute_result"
    }
   ],
   "source": [
    "train.head()"
   ]
  },
  {
   "cell_type": "code",
   "execution_count": 4,
   "metadata": {},
   "outputs": [
    {
     "data": {
      "text/plain": [
       "False"
      ]
     },
     "execution_count": 4,
     "metadata": {},
     "output_type": "execute_result"
    }
   ],
   "source": [
    "any(train.Password.values == test.Password[0])"
   ]
  },
  {
   "cell_type": "code",
   "execution_count": 5,
   "metadata": {},
   "outputs": [
    {
     "data": {
      "image/png": "[encoded data removed]",
      "text/plain": [
       "<Figure size 1440x720 with 1 Axes>"
      ]
     },
     "metadata": {},
     "output_type": "display_data"
    }
   ],
   "source": [
    "plt.figure(figsize=(20,10))\n",
    "plt.hist(train.Times.values, bins = 100)\n",
    "plt.show()"
   ]
  },
  {
   "cell_type": "markdown",
   "metadata": {},
   "source": [
    "Functions for features creation"
   ]
  },
  {
   "cell_type": "code",
   "execution_count": 54,
   "metadata": {},
   "outputs": [],
   "source": [
    "def features_create(word):\n",
    "    features = [[],[],[],[]]\n",
    "    features[0] = len(word)\n",
    "    up = 0\n",
    "    lo = 0\n",
    "    nu = 0\n",
    "    for symb in word:\n",
    "        if symb.isnumeric():\n",
    "            nu += 1\n",
    "        elif symb.isupper():\n",
    "            up += 1\n",
    "        else:\n",
    "            lo += 1\n",
    "    features[1] = up\n",
    "    features[2] = lo\n",
    "    features[3] = nu\n",
    "    return features\n",
    "\n",
    "def all_fetures(words):\n",
    "    features = []\n",
    "    for word in words:\n",
    "        features.append(features_create(word))\n",
    "    return features"
   ]
  },
  {
   "cell_type": "markdown",
   "metadata": {},
   "source": [
    "Features creation"
   ]
  },
  {
   "cell_type": "code",
   "execution_count": 72,
   "metadata": {},
   "outputs": [],
   "source": [
    "X = all_fetures(train.fillna('0').Password.values)\n",
    "y = np.log(train.fillna('0').Times.values)\n",
    "X_train, X_test, y_train, y_test = train_test_split(X, y, random_state=47)"
   ]
  },
  {
   "cell_type": "markdown",
   "metadata": {},
   "source": [
    "Model  creation and fitting"
   ]
  },
  {
   "cell_type": "code",
   "execution_count": 85,
   "metadata": {
    "scrolled": true
   },
   "outputs": [
    {
     "name": "stdout",
     "output_type": "stream",
     "text": [
      "[1]\tvalid_0's l2: 0.292691\tvalid_0's rmse: 0.54101\n",
      "[2]\tvalid_0's l2: 0.28804\tvalid_0's rmse: 0.536694\n",
      "[3]\tvalid_0's l2: 0.284263\tvalid_0's rmse: 0.533164\n",
      "[4]\tvalid_0's l2: 0.281196\tvalid_0's rmse: 0.530279\n",
      "[5]\tvalid_0's l2: 0.27871\tvalid_0's rmse: 0.52793\n",
      "[6]\tvalid_0's l2: 0.276686\tvalid_0's rmse: 0.52601\n",
      "[7]\tvalid_0's l2: 0.275047\tvalid_0's rmse: 0.524449\n",
      "[8]\tvalid_0's l2: 0.273713\tvalid_0's rmse: 0.523176\n",
      "[9]\tvalid_0's l2: 0.272626\tvalid_0's rmse: 0.522136\n",
      "[10]\tvalid_0's l2: 0.271742\tvalid_0's rmse: 0.521289\n",
      "[11]\tvalid_0's l2: 0.271023\tvalid_0's rmse: 0.520599\n",
      "[12]\tvalid_0's l2: 0.270439\tvalid_0's rmse: 0.520037\n",
      "[13]\tvalid_0's l2: 0.269955\tvalid_0's rmse: 0.519572\n",
      "[14]\tvalid_0's l2: 0.269562\tvalid_0's rmse: 0.519194\n",
      "[15]\tvalid_0's l2: 0.269241\tvalid_0's rmse: 0.518885\n",
      "[16]\tvalid_0's l2: 0.268979\tvalid_0's rmse: 0.518632\n",
      "[17]\tvalid_0's l2: 0.268763\tvalid_0's rmse: 0.518424\n",
      "[18]\tvalid_0's l2: 0.268582\tvalid_0's rmse: 0.518249\n",
      "[19]\tvalid_0's l2: 0.268432\tvalid_0's rmse: 0.518104\n",
      "[20]\tvalid_0's l2: 0.268311\tvalid_0's rmse: 0.517987\n",
      "[21]\tvalid_0's l2: 0.26821\tvalid_0's rmse: 0.517889\n",
      "[22]\tvalid_0's l2: 0.268125\tvalid_0's rmse: 0.517808\n",
      "[23]\tvalid_0's l2: 0.268055\tvalid_0's rmse: 0.517741\n",
      "[24]\tvalid_0's l2: 0.267997\tvalid_0's rmse: 0.517684\n",
      "[25]\tvalid_0's l2: 0.267949\tvalid_0's rmse: 0.517637\n",
      "[26]\tvalid_0's l2: 0.267906\tvalid_0's rmse: 0.517597\n",
      "[27]\tvalid_0's l2: 0.267871\tvalid_0's rmse: 0.517563\n",
      "[28]\tvalid_0's l2: 0.267842\tvalid_0's rmse: 0.517534\n",
      "[29]\tvalid_0's l2: 0.267817\tvalid_0's rmse: 0.51751\n",
      "[30]\tvalid_0's l2: 0.267796\tvalid_0's rmse: 0.51749\n",
      "[31]\tvalid_0's l2: 0.267779\tvalid_0's rmse: 0.517474\n",
      "[32]\tvalid_0's l2: 0.267765\tvalid_0's rmse: 0.51746\n",
      "[33]\tvalid_0's l2: 0.267753\tvalid_0's rmse: 0.517449\n",
      "[34]\tvalid_0's l2: 0.267743\tvalid_0's rmse: 0.517438\n",
      "[35]\tvalid_0's l2: 0.267734\tvalid_0's rmse: 0.51743\n",
      "[36]\tvalid_0's l2: 0.267726\tvalid_0's rmse: 0.517423\n",
      "[37]\tvalid_0's l2: 0.267719\tvalid_0's rmse: 0.517416\n",
      "[38]\tvalid_0's l2: 0.267714\tvalid_0's rmse: 0.51741\n",
      "[39]\tvalid_0's l2: 0.267709\tvalid_0's rmse: 0.517406\n",
      "[40]\tvalid_0's l2: 0.267705\tvalid_0's rmse: 0.517402\n",
      "[41]\tvalid_0's l2: 0.267701\tvalid_0's rmse: 0.517399\n",
      "[42]\tvalid_0's l2: 0.267698\tvalid_0's rmse: 0.517395\n",
      "[43]\tvalid_0's l2: 0.267694\tvalid_0's rmse: 0.517392\n",
      "[44]\tvalid_0's l2: 0.267692\tvalid_0's rmse: 0.517389\n",
      "[45]\tvalid_0's l2: 0.26769\tvalid_0's rmse: 0.517387\n",
      "[46]\tvalid_0's l2: 0.267687\tvalid_0's rmse: 0.517385\n",
      "[47]\tvalid_0's l2: 0.267685\tvalid_0's rmse: 0.517383\n",
      "[48]\tvalid_0's l2: 0.267683\tvalid_0's rmse: 0.517381\n",
      "[49]\tvalid_0's l2: 0.267681\tvalid_0's rmse: 0.517379\n",
      "[50]\tvalid_0's l2: 0.267679\tvalid_0's rmse: 0.517377\n",
      "[51]\tvalid_0's l2: 0.267677\tvalid_0's rmse: 0.517376\n",
      "[52]\tvalid_0's l2: 0.267676\tvalid_0's rmse: 0.517374\n",
      "[53]\tvalid_0's l2: 0.267675\tvalid_0's rmse: 0.517373\n",
      "[54]\tvalid_0's l2: 0.267674\tvalid_0's rmse: 0.517372\n",
      "[55]\tvalid_0's l2: 0.267673\tvalid_0's rmse: 0.517371\n",
      "[56]\tvalid_0's l2: 0.267672\tvalid_0's rmse: 0.51737\n",
      "[57]\tvalid_0's l2: 0.267671\tvalid_0's rmse: 0.517369\n",
      "[58]\tvalid_0's l2: 0.267671\tvalid_0's rmse: 0.517369\n",
      "[59]\tvalid_0's l2: 0.267669\tvalid_0's rmse: 0.517368\n",
      "[60]\tvalid_0's l2: 0.267668\tvalid_0's rmse: 0.517367\n",
      "[61]\tvalid_0's l2: 0.267668\tvalid_0's rmse: 0.517367\n",
      "[62]\tvalid_0's l2: 0.267667\tvalid_0's rmse: 0.517366\n",
      "[63]\tvalid_0's l2: 0.267666\tvalid_0's rmse: 0.517365\n",
      "[64]\tvalid_0's l2: 0.267666\tvalid_0's rmse: 0.517364\n",
      "[65]\tvalid_0's l2: 0.267665\tvalid_0's rmse: 0.517364\n",
      "[66]\tvalid_0's l2: 0.267665\tvalid_0's rmse: 0.517363\n",
      "[67]\tvalid_0's l2: 0.267664\tvalid_0's rmse: 0.517363\n",
      "[68]\tvalid_0's l2: 0.267664\tvalid_0's rmse: 0.517362\n",
      "[69]\tvalid_0's l2: 0.267664\tvalid_0's rmse: 0.517362\n",
      "[70]\tvalid_0's l2: 0.267663\tvalid_0's rmse: 0.517361\n",
      "[71]\tvalid_0's l2: 0.267662\tvalid_0's rmse: 0.517361\n",
      "[72]\tvalid_0's l2: 0.267662\tvalid_0's rmse: 0.517361\n",
      "[73]\tvalid_0's l2: 0.267662\tvalid_0's rmse: 0.51736\n",
      "[74]\tvalid_0's l2: 0.267661\tvalid_0's rmse: 0.51736\n",
      "[75]\tvalid_0's l2: 0.267661\tvalid_0's rmse: 0.51736\n",
      "[76]\tvalid_0's l2: 0.267661\tvalid_0's rmse: 0.517359\n",
      "[77]\tvalid_0's l2: 0.267661\tvalid_0's rmse: 0.517359\n",
      "[78]\tvalid_0's l2: 0.26766\tvalid_0's rmse: 0.517359\n",
      "[79]\tvalid_0's l2: 0.26766\tvalid_0's rmse: 0.517359\n",
      "[80]\tvalid_0's l2: 0.26766\tvalid_0's rmse: 0.517359\n",
      "[81]\tvalid_0's l2: 0.26766\tvalid_0's rmse: 0.517359\n",
      "[82]\tvalid_0's l2: 0.26766\tvalid_0's rmse: 0.517358\n",
      "[83]\tvalid_0's l2: 0.267659\tvalid_0's rmse: 0.517358\n",
      "[84]\tvalid_0's l2: 0.267659\tvalid_0's rmse: 0.517358\n",
      "[85]\tvalid_0's l2: 0.267659\tvalid_0's rmse: 0.517358\n",
      "[86]\tvalid_0's l2: 0.267659\tvalid_0's rmse: 0.517358\n",
      "[87]\tvalid_0's l2: 0.267659\tvalid_0's rmse: 0.517357\n",
      "[88]\tvalid_0's l2: 0.267658\tvalid_0's rmse: 0.517357\n",
      "[89]\tvalid_0's l2: 0.267658\tvalid_0's rmse: 0.517357\n",
      "[90]\tvalid_0's l2: 0.267658\tvalid_0's rmse: 0.517357\n",
      "[91]\tvalid_0's l2: 0.267658\tvalid_0's rmse: 0.517357\n",
      "[92]\tvalid_0's l2: 0.267658\tvalid_0's rmse: 0.517357\n",
      "[93]\tvalid_0's l2: 0.267658\tvalid_0's rmse: 0.517357\n",
      "[94]\tvalid_0's l2: 0.267658\tvalid_0's rmse: 0.517357\n",
      "[95]\tvalid_0's l2: 0.267658\tvalid_0's rmse: 0.517356\n",
      "[96]\tvalid_0's l2: 0.267658\tvalid_0's rmse: 0.517356\n",
      "[97]\tvalid_0's l2: 0.267658\tvalid_0's rmse: 0.517356\n",
      "[98]\tvalid_0's l2: 0.267658\tvalid_0's rmse: 0.517356\n",
      "[99]\tvalid_0's l2: 0.267658\tvalid_0's rmse: 0.517356\n",
      "[100]\tvalid_0's l2: 0.267657\tvalid_0's rmse: 0.517356\n"
     ]
    },
    {
     "data": {
      "text/plain": [
       "LGBMRegressor(boosting_type='gbdt', class_weight=None, colsample_bytree=1.0,\n",
       "       importance_type='split', learning_rate=0.1, max_depth=-1,\n",
       "       min_child_samples=20, min_child_weight=0.001, min_split_gain=0.0,\n",
       "       n_estimators=100, n_jobs=-1, num_leaves=31, objective=None,\n",
       "       random_state=47, reg_alpha=0.0, reg_lambda=0.0, silent=True,\n",
       "       subsample=1.0, subsample_for_bin=200000, subsample_freq=0)"
      ]
     },
     "execution_count": 85,
     "metadata": {},
     "output_type": "execute_result"
    }
   ],
   "source": [
    "model = LGBMRegressor(random_state=47)\n",
    "model.fit(X_train, y_train, eval_set=[(np.array(X_test), np.array(y_test))], eval_metric='rmse')"
   ]
  },
  {
   "cell_type": "markdown",
   "metadata": {},
   "source": [
    "Model control"
   ]
  },
  {
   "cell_type": "code",
   "execution_count": 67,
   "metadata": {},
   "outputs": [],
   "source": [
    "def rmsle(y, y_pred):\n",
    "    assert len(y) == len(y_pred)\n",
    "    terms_to_sum = [(math.log(y_pred[i] + 1) - math.log(y[i] + 1)) ** 2.0 for i,pred in enumerate(y_pred)]\n",
    "    return (sum(terms_to_sum) * (1.0/len(y))) ** 0.5"
   ]
  },
  {
   "cell_type": "code",
   "execution_count": 86,
   "metadata": {},
   "outputs": [
    {
     "data": {
      "text/plain": [
       "0.2826935825064142"
      ]
     },
     "execution_count": 86,
     "metadata": {},
     "output_type": "execute_result"
    }
   ],
   "source": [
    "rmsle(y_test, model.predict(X_test))"
   ]
  },
  {
   "cell_type": "markdown",
   "metadata": {},
   "source": [
    "Prediction"
   ]
  },
  {
   "cell_type": "code",
   "execution_count": 90,
   "metadata": {},
   "outputs": [],
   "source": [
    "X_control = all_fetures(test.fillna('0').Password.values)\n",
    "prediction = np.exp(model.predict(X_control))\n",
    "pd.DataFrame(prediction, index=range(test.shape[0]), columns=['Times']).to_csv('lgbm_submit.csv', index_label='Id')"
   ]
  }
 ],
 "metadata": {
  "kernelspec": {
   "display_name": "Python 3",
   "language": "python",
   "name": "python3"
  },
  "language_info": {
   "codemirror_mode": {
    "name": "ipython",
    "version": 3
   },
   "file_extension": ".py",
   "mimetype": "text/x-python",
   "name": "python",
   "nbconvert_exporter": "python",
   "pygments_lexer": "ipython3",
   "version": "3.6.5"
  }
 },
 "nbformat": 4,
 "nbformat_minor": 2
}
